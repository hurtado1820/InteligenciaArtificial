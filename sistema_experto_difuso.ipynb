{
  "nbformat": 4,
  "nbformat_minor": 0,
  "metadata": {
    "colab": {
      "name": "sistema_experto_difuso.ipynb",
      "provenance": [],
      "collapsed_sections": [],
      "authorship_tag": "ABX9TyPA8Wp+tPjjInLmrv5BJHjU",
      "include_colab_link": true
    },
    "kernelspec": {
      "name": "python3",
      "display_name": "Python 3"
    },
    "language_info": {
      "name": "python"
    }
  },
  "cells": [
    {
      "cell_type": "markdown",
      "metadata": {
        "id": "view-in-github",
        "colab_type": "text"
      },
      "source": [
        "<a href=\"https://colab.research.google.com/github/hurtado1820/InteligenciaArtificial/blob/main/sistema_experto_difuso.ipynb\" target=\"_parent\"><img src=\"https://colab.research.google.com/assets/colab-badge.svg\" alt=\"Open In Colab\"/></a>"
      ]
    },
    {
      "cell_type": "code",
      "metadata": {
        "id": "s8VqWbPv1qN4"
      },
      "source": [
        " import sqlite3  #Importo librería para manejo de bases de datos\n",
        "\n",
        "con = sqlite3.connect('mydatabase.db')  #Definir conexión a una base de datos\n",
        "cursor = con.cursor()  #Cursor para interactuar con la base de datos"
      ],
      "execution_count": 66,
      "outputs": []
    },
    {
      "cell_type": "code",
      "metadata": {
        "colab": {
          "base_uri": "https://localhost:8080/"
        },
        "id": "LxGlVfJJ9jSx",
        "outputId": "8d62d389-99c9-4b4f-d841-788c55ec6324"
      },
      "source": [
        "#Creación de las tablas\n",
        "cursor.execute(\"CREATE TABLE hechos(id_h INTEGER PRIMARY KEY, nombre TEXT)\")\n",
        "cursor.execute('''CREATE TABLE reglas(id_r INTEGER PRIMARY KEY, id_anteced INTEGER, id_consec INTEGER, difuso FLOAT,\n",
        "                FOREIGN KEY(id_anteced) REFERENCES hechos(id_h),FOREIGN KEY(id_consec) REFERENCES hechos(id_h) )''')"
      ],
      "execution_count": 67,
      "outputs": [
        {
          "output_type": "execute_result",
          "data": {
            "text/plain": [
              "<sqlite3.Cursor at 0x7ff1e6805490>"
            ]
          },
          "metadata": {},
          "execution_count": 67
        }
      ]
    },
    {
      "cell_type": "code",
      "metadata": {
        "colab": {
          "base_uri": "https://localhost:8080/"
        },
        "id": "2He3ILVqBVOH",
        "outputId": "ae787f60-fac2-47f5-ee6b-42e48ef67f94"
      },
      "source": [
        "#Adicionar información en la tabla de hechos \n",
        "cursor.execute(\"INSERT INTO hechos VALUES(1,'fiebre')\")\n",
        "cursor.execute(\"INSERT INTO hechos VALUES(2,'malestar')\")\n",
        "cursor.execute(\"INSERT INTO hechos VALUES(3,'dolor_garganta')\")\n",
        "cursor.execute(\"INSERT INTO hechos VALUES(4,'faringitis')\")\n",
        "cursor.execute(\"INSERT INTO hechos VALUES(5,'gripa')\")"
      ],
      "execution_count": 68,
      "outputs": [
        {
          "output_type": "execute_result",
          "data": {
            "text/plain": [
              "<sqlite3.Cursor at 0x7ff1e6805490>"
            ]
          },
          "metadata": {},
          "execution_count": 68
        }
      ]
    },
    {
      "cell_type": "code",
      "metadata": {
        "colab": {
          "base_uri": "https://localhost:8080/"
        },
        "id": "2oPlgqbVCQEp",
        "outputId": "4d7e27e0-cfa7-4630-db2f-248d7c89b330"
      },
      "source": [
        "#Adicionar información en la tabla de reglas\n",
        "cursor.execute(\"INSERT INTO reglas VALUES(1,1,5,0.2)\")\n",
        "cursor.execute(\"INSERT INTO reglas VALUES(2,2,5,0.7)\")\n",
        "cursor.execute(\"INSERT INTO reglas VALUES(3,3,4,0.8)\")\n",
        "cursor.execute(\"INSERT INTO reglas VALUES(4,2,4,0.6)\")"
      ],
      "execution_count": 69,
      "outputs": [
        {
          "output_type": "execute_result",
          "data": {
            "text/plain": [
              "<sqlite3.Cursor at 0x7ff1e6805490>"
            ]
          },
          "metadata": {},
          "execution_count": 69
        }
      ]
    },
    {
      "cell_type": "code",
      "metadata": {
        "colab": {
          "base_uri": "https://localhost:8080/"
        },
        "id": "VRQ1J3F3C1Bi",
        "outputId": "16150598-bd2a-4f13-8f8b-043e2dcc1996"
      },
      "source": [
        "#Vista contenido tabla hechos\n",
        "cursor.execute(\"SELECT * FROM hechos\")\n",
        "result = cursor.fetchall()\n",
        "print(result)"
      ],
      "execution_count": 70,
      "outputs": [
        {
          "output_type": "stream",
          "name": "stdout",
          "text": [
            "[(1, 'fiebre'), (2, 'malestar'), (3, 'dolor_garganta'), (4, 'faringitis'), (5, 'gripa')]\n"
          ]
        }
      ]
    },
    {
      "cell_type": "code",
      "metadata": {
        "colab": {
          "base_uri": "https://localhost:8080/"
        },
        "id": "yadKeKBSDb1o",
        "outputId": "70011d2b-1dcc-46c7-da08-8887383a0f14"
      },
      "source": [
        "#Vista contenido tabla reglas\n",
        "cursor.execute(\"SELECT * FROM reglas\")\n",
        "result = cursor.fetchall()\n",
        "print(result)"
      ],
      "execution_count": 71,
      "outputs": [
        {
          "output_type": "stream",
          "name": "stdout",
          "text": [
            "[(1, 1, 5, 0.2), (2, 2, 5, 0.7), (3, 3, 4, 0.8), (4, 2, 4, 0.6)]\n"
          ]
        }
      ]
    },
    {
      "cell_type": "code",
      "metadata": {
        "id": "qM7ZmSm6Fb57"
      },
      "source": [
        "#Generación de agenda\n",
        "agenda = {}"
      ],
      "execution_count": 72,
      "outputs": []
    },
    {
      "cell_type": "code",
      "metadata": {
        "colab": {
          "base_uri": "https://localhost:8080/"
        },
        "id": "3aHoZglgbC_s",
        "outputId": "b8d708a4-8725-4cb2-a7a3-caeb6e0535d6"
      },
      "source": [
        "#Busco el consecuente (enfermedad) y lleno la agenda\n",
        "def manejoAgenda(sintoma):\n",
        "  #Tomo la enfermedad\n",
        "  cursor.execute(\"SELECT id_consec FROM reglas WHERE id_anteced = '%i'\" %sintoma)\n",
        "  enfermedad_id = cursor.fetchall()\n",
        "  #Tomo el identificador de la(s) reglas en donde se cumple el sintoma, esto es para poder acceder al valor difuso \n",
        "  cursor.execute(\"SELECT id_r FROM reglas WHERE id_anteced = '%i'\" %sintoma)\n",
        "  index_enfermedad = cursor.fetchall()\n",
        "\n",
        "  #Si el sintoma solo conduce a una enfermedad\n",
        "  if len(enfermedad_id) == 1:\n",
        "    #Nombre de la enfermedad\n",
        "    cursor.execute(\"SELECT nombre FROM hechos WHERE id_h = '%i'\" %enfermedad_id[0][0])\n",
        "    nomb_enfermedad = cursor.fetchall()\n",
        "    #Valor difuso asignado a enfermedad\n",
        "    cursor.execute(\"SELECT difuso FROM reglas WHERE id_r = '%f'\" %index_enfermedad[0][0])\n",
        "    valor_difuso = cursor.fetchall()\n",
        "    \n",
        "    if nomb_enfermedad[0][0] in agenda:\n",
        "      acumulado_difuso = agenda.get(nomb_enfermedad[0][0])\n",
        "      agenda[nomb_enfermedad[0][0]] = acumulado_difuso + ((1 - acumulado_difuso) * valor_difuso[0][0])\n",
        "    else:\n",
        "      agenda[nomb_enfermedad[0][0]] = valor_difuso[0][0] \n",
        "\n",
        "\n",
        "\n",
        "  #Si el sintoma se presenta en ambas enfermedades\n",
        "  if len(enfermedad_id) == 2:\n",
        "\n",
        "    #Primer enfermedad\n",
        "    cursor.execute(\"SELECT nombre FROM hechos WHERE id_h = '%i'\" %enfermedad_id[0][0])\n",
        "    nomb_enfermedad = cursor.fetchall()\n",
        "    #Valor difuso asignado a enfermedad\n",
        "    cursor.execute(\"SELECT difuso FROM reglas WHERE id_r = '%f'\" %index_enfermedad[0][0])\n",
        "    valor_difuso = cursor.fetchall()\n",
        "    \n",
        "\n",
        "    if nomb_enfermedad[0][0] in agenda:\n",
        "      acumulado_difuso = agenda.get(nomb_enfermedad[0][0])\n",
        "      agenda[nomb_enfermedad[0][0]] = acumulado_difuso + ((1 - acumulado_difuso) * valor_difuso[0][0])\n",
        "    else:\n",
        "      agenda[nomb_enfermedad[0][0]] = valor_difuso[0][0]\n",
        "\n",
        "    #Segunda enfermedad\n",
        "    cursor.execute(\"SELECT nombre FROM hechos WHERE id_h = '%i'\" %enfermedad_id[1][0])\n",
        "    nomb_enfermedad = cursor.fetchall()\n",
        "    #Valor difuso asignado a enfermedad\n",
        "    cursor.execute(\"SELECT difuso FROM reglas WHERE id_r = '%f'\" %index_enfermedad[1][0])\n",
        "    valor_difuso = cursor.fetchall()\n",
        "    \n",
        "\n",
        "    if nomb_enfermedad[0][0] in agenda:\n",
        "      acumulado_difuso = agenda.get(nomb_enfermedad[0][0])\n",
        "      agenda[nomb_enfermedad[0][0]] = acumulado_difuso + ((1 - acumulado_difuso) * valor_difuso[0][0])\n",
        "    else:\n",
        "      agenda[nomb_enfermedad[0][0]] = valor_difuso[0][0] \n",
        "  \n",
        "  print(agenda)\n",
        "\n",
        "\n",
        "#Tomo el identificador del sintoma proporcionado\n",
        "def sistema(entrada):\n",
        "  cursor.execute(\"SELECT id_h FROM hechos WHERE nombre = '%s'\" %entrada)\n",
        "  sintoma = cursor.fetchall()\n",
        "  if len(sintoma) == 1:\n",
        "    valor_sintoma = sintoma[0][0]\n",
        "    manejoAgenda(valor_sintoma)   \n",
        "\n",
        "\n",
        "#Ciclo de pregunta\n",
        "while True:\n",
        "  entrada = input(\"Ingrese un sintoma: \")\n",
        "  if entrada != \"nada\":\n",
        "    sistema(entrada)\n",
        "  else:\n",
        "    break  "
      ],
      "execution_count": 73,
      "outputs": [
        {
          "name": "stdout",
          "output_type": "stream",
          "text": [
            "Ingrese un sintoma: fiebre\n",
            "{'gripa': 0.2}\n",
            "Ingrese un sintoma: tos\n",
            "Ingrese un sintoma: malestar\n",
            "{'gripa': 0.76, 'faringitis': 0.6}\n",
            "Ingrese un sintoma: nada\n"
          ]
        }
      ]
    },
    {
      "cell_type": "code",
      "metadata": {
        "id": "lpSiJJixFMtc",
        "colab": {
          "base_uri": "https://localhost:8080/"
        },
        "outputId": "d2ad92cc-5f90-4edc-a906-eb1362aedaec"
      },
      "source": [
        "#Revisión de Agenda\n",
        "num = list(agenda.values())\n",
        "nombres = list(agenda.keys())\n",
        "\n",
        "#Caso de agenda sin sintomas\n",
        "if len(num) == 0:\n",
        "  print(\"Agenda vacía\")\n",
        "\n",
        "elif len(num) > 0:   \n",
        "  #Sintoma con mayor valor y ver si hay empate   \n",
        "  maximo = max(num)\n",
        "  cantidad = num.count(maximo)\n",
        "  if cantidad > 1:\n",
        "   print(\"No está definida la enfermedad, hay empate\")\n",
        "  elif cantidad == 1:\n",
        "    enfermedad_pos = num.index(maximo)\n",
        "    enfermedad_nombre = nombres[enfermedad_pos]\n",
        "    print('El paciente tiene {} en un {}%'.format(enfermedad_nombre,maximo*100)) \n",
        "\n",
        "\n",
        "agenda.clear()"
      ],
      "execution_count": 74,
      "outputs": [
        {
          "output_type": "stream",
          "name": "stdout",
          "text": [
            "El paciente tiene gripa en un 76.0%\n"
          ]
        }
      ]
    }
  ]
}
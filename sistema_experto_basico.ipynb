{
  "nbformat": 4,
  "nbformat_minor": 0,
  "metadata": {
    "colab": {
      "name": "sistema_experto_basico.ipynb",
      "provenance": [],
      "collapsed_sections": [],
      "authorship_tag": "ABX9TyMDjPxK+/3iMYNhLmlaLvHf",
      "include_colab_link": true
    },
    "kernelspec": {
      "name": "python3",
      "display_name": "Python 3"
    },
    "language_info": {
      "name": "python"
    }
  },
  "cells": [
    {
      "cell_type": "markdown",
      "metadata": {
        "id": "view-in-github",
        "colab_type": "text"
      },
      "source": [
        "<a href=\"https://colab.research.google.com/github/hurtado1820/InteligenciaArtificial/blob/main/sistema_experto_basico.ipynb\" target=\"_parent\"><img src=\"https://colab.research.google.com/assets/colab-badge.svg\" alt=\"Open In Colab\"/></a>"
      ]
    },
    {
      "cell_type": "code",
      "metadata": {
        "id": "s8VqWbPv1qN4"
      },
      "source": [
        " import sqlite3  #Importo librería para manejo de bases de datos\n",
        "\n",
        "con = sqlite3.connect('mydatabase.db')  #Definir conexión a una base de datos\n",
        "cursor = con.cursor()  #Cursor para interactuar con la base de datos"
      ],
      "execution_count": 1,
      "outputs": []
    },
    {
      "cell_type": "code",
      "metadata": {
        "colab": {
          "base_uri": "https://localhost:8080/"
        },
        "id": "LxGlVfJJ9jSx",
        "outputId": "1993cac2-225e-4e6c-c3d6-46369181f98c"
      },
      "source": [
        "#Creación de las tablas\n",
        "cursor.execute(\"CREATE TABLE hechos(id_h INTEGER PRIMARY KEY, nombre TEXT)\")\n",
        "cursor.execute('''CREATE TABLE reglas(id_r INTEGER PRIMARY KEY, id_anteced INTEGER, id_consec INTEGER,\n",
        "                FOREIGN KEY(id_anteced) REFERENCES hechos(id_h),FOREIGN KEY(id_consec) REFERENCES hechos(id_h) )''')"
      ],
      "execution_count": 2,
      "outputs": [
        {
          "output_type": "execute_result",
          "data": {
            "text/plain": [
              "<sqlite3.Cursor at 0x7f3e79ab4810>"
            ]
          },
          "metadata": {},
          "execution_count": 2
        }
      ]
    },
    {
      "cell_type": "code",
      "metadata": {
        "colab": {
          "base_uri": "https://localhost:8080/"
        },
        "id": "2He3ILVqBVOH",
        "outputId": "2c076821-b3f8-4012-8795-ea429fb734bf"
      },
      "source": [
        "#Adicionar información en la tabla de hechos \n",
        "cursor.execute(\"INSERT INTO hechos VALUES(1,'fiebre')\")\n",
        "cursor.execute(\"INSERT INTO hechos VALUES(2,'tos')\")\n",
        "cursor.execute(\"INSERT INTO hechos VALUES(3,'malestar')\")\n",
        "cursor.execute(\"INSERT INTO hechos VALUES(4,'dolor_de_garganta')\")\n",
        "cursor.execute(\"INSERT INTO hechos VALUES(5,'gripa')\")\n",
        "cursor.execute(\"INSERT INTO hechos VALUES(6,'faringitis')\")"
      ],
      "execution_count": 3,
      "outputs": [
        {
          "output_type": "execute_result",
          "data": {
            "text/plain": [
              "<sqlite3.Cursor at 0x7f3e79ab4810>"
            ]
          },
          "metadata": {},
          "execution_count": 3
        }
      ]
    },
    {
      "cell_type": "code",
      "metadata": {
        "colab": {
          "base_uri": "https://localhost:8080/"
        },
        "id": "2oPlgqbVCQEp",
        "outputId": "48710227-a788-4b37-a109-7109a7d7c67c"
      },
      "source": [
        "#Adicionar información en la tabla de reglas\n",
        "cursor.execute(\"INSERT INTO reglas VALUES(1,1,5)\")\n",
        "cursor.execute(\"INSERT INTO reglas VALUES(2,2,5)\")\n",
        "cursor.execute(\"INSERT INTO reglas VALUES(3,3,5)\")\n",
        "cursor.execute(\"INSERT INTO reglas VALUES(4,3,6)\")\n",
        "cursor.execute(\"INSERT INTO reglas VALUES(5,4,6)\")"
      ],
      "execution_count": 4,
      "outputs": [
        {
          "output_type": "execute_result",
          "data": {
            "text/plain": [
              "<sqlite3.Cursor at 0x7f3e79ab4810>"
            ]
          },
          "metadata": {},
          "execution_count": 4
        }
      ]
    },
    {
      "cell_type": "code",
      "metadata": {
        "colab": {
          "base_uri": "https://localhost:8080/"
        },
        "id": "VRQ1J3F3C1Bi",
        "outputId": "ce07878f-2113-45f5-fa5a-099be4fd0c6e"
      },
      "source": [
        "#Vista contenido tabla hechos\n",
        "cursor.execute(\"SELECT * FROM hechos\")\n",
        "result = cursor.fetchall()\n",
        "print(result)"
      ],
      "execution_count": 5,
      "outputs": [
        {
          "output_type": "stream",
          "name": "stdout",
          "text": [
            "[(1, 'fiebre'), (2, 'tos'), (3, 'malestar'), (4, 'dolor_de_garganta'), (5, 'gripa'), (6, 'faringitis')]\n"
          ]
        }
      ]
    },
    {
      "cell_type": "code",
      "metadata": {
        "colab": {
          "base_uri": "https://localhost:8080/"
        },
        "id": "yadKeKBSDb1o",
        "outputId": "b81b5636-01c4-4a45-b620-6d5531149739"
      },
      "source": [
        "#Vista contenido tabla reglas\n",
        "cursor.execute(\"SELECT * FROM reglas\")\n",
        "result = cursor.fetchall()\n",
        "print(result)"
      ],
      "execution_count": 6,
      "outputs": [
        {
          "output_type": "stream",
          "name": "stdout",
          "text": [
            "[(1, 1, 5), (2, 2, 5), (3, 3, 5), (4, 3, 6), (5, 4, 6)]\n"
          ]
        }
      ]
    },
    {
      "cell_type": "code",
      "metadata": {
        "id": "qM7ZmSm6Fb57"
      },
      "source": [
        "#Generación de agenda\n",
        "agenda = {}"
      ],
      "execution_count": 7,
      "outputs": []
    },
    {
      "cell_type": "code",
      "metadata": {
        "colab": {
          "base_uri": "https://localhost:8080/"
        },
        "id": "3aHoZglgbC_s",
        "outputId": "79e3e436-48cd-4e5a-c783-34e86946cac2"
      },
      "source": [
        "#Busco el consecuente (enfermedad) y lleno la agenda\n",
        "def manejoAgenda(sintoma):\n",
        "  cursor.execute(\"SELECT id_consec FROM reglas WHERE id_anteced = '%i'\" %sintoma)\n",
        "  enfermedad_id = cursor.fetchall()\n",
        "  if len(enfermedad_id) == 1:\n",
        "    cursor.execute(\"SELECT nombre FROM hechos WHERE id_h = '%i'\" %enfermedad_id[0][0])\n",
        "    nomb_enfermedad = cursor.fetchall()\n",
        "    if nomb_enfermedad[0][0] in agenda:\n",
        "      agenda[nomb_enfermedad[0][0]] += 1\n",
        "    else:\n",
        "      agenda[nomb_enfermedad[0][0]] = 1  \n",
        "\n",
        "  if len(enfermedad_id) == 2:\n",
        "    cursor.execute(\"SELECT nombre FROM hechos WHERE id_h = '%i'\" %enfermedad_id[0][0])\n",
        "    nomb_enfermedad = cursor.fetchall()\n",
        "    if nomb_enfermedad[0][0] in agenda:\n",
        "      agenda[nomb_enfermedad[0][0]] += 1\n",
        "    else:\n",
        "      agenda[nomb_enfermedad[0][0]] = 1\n",
        "\n",
        "    cursor.execute(\"SELECT nombre FROM hechos WHERE id_h = '%i'\" %enfermedad_id[1][0])\n",
        "    nomb_enfermedad = cursor.fetchall()\n",
        "    if nomb_enfermedad[0][0] in agenda:\n",
        "      agenda[nomb_enfermedad[0][0]] += 1\n",
        "    else:\n",
        "      agenda[nomb_enfermedad[0][0]] = 1  \n",
        "  \n",
        "  print(agenda)\n",
        "\n",
        "\n",
        "#Tomo el identificador del sintoma proporcionado\n",
        "def sistema(entrada):\n",
        "  cursor.execute(\"SELECT id_h FROM hechos WHERE nombre = '%s'\" %entrada)\n",
        "  sintoma = cursor.fetchall()\n",
        "  if len(sintoma) == 1:\n",
        "    valor_sintoma = sintoma[0][0]\n",
        "    manejoAgenda(valor_sintoma)   \n",
        "\n",
        "\n",
        "#Ciclo de pregunta\n",
        "while True:\n",
        "  entrada = input(\"Ingrese un sintoma: \")\n",
        "  if entrada != \"nada\":\n",
        "    sistema(entrada)\n",
        "  else:\n",
        "    break  "
      ],
      "execution_count": 84,
      "outputs": [
        {
          "name": "stdout",
          "output_type": "stream",
          "text": [
            "Ingrese un sintoma: fiebre\n",
            "{'gripa': 1}\n",
            "Ingrese un sintoma: malestar\n",
            "{'gripa': 2, 'faringitis': 1}\n",
            "Ingrese un sintoma: tos\n",
            "{'gripa': 3, 'faringitis': 1}\n",
            "Ingrese un sintoma: nada\n"
          ]
        }
      ]
    },
    {
      "cell_type": "code",
      "metadata": {
        "id": "lpSiJJixFMtc",
        "colab": {
          "base_uri": "https://localhost:8080/"
        },
        "outputId": "54e12b13-3e93-4010-f770-4d661e5b179d"
      },
      "source": [
        "#Revisión de Agenda\n",
        "num = list(agenda.values())\n",
        "nombres = list(agenda.keys())\n",
        "\n",
        "#Caso de agenda sin sintomas\n",
        "if len(num) == 0:\n",
        "  print(\"Agenda vacía\")\n",
        "\n",
        "elif len(num) > 0:   \n",
        "  #Sintoma con mayor valor y ver si hay empate   \n",
        "  maximo = max(num)\n",
        "  cantidad = num.count(maximo)\n",
        "  if cantidad > 1:\n",
        "   print(\"No está definida la enfermedad, hay empate\")\n",
        "  elif cantidad == 1:\n",
        "    enfermedad_pos = num.index(maximo)\n",
        "    enfermedad_nombre = nombres[enfermedad_pos]\n",
        "    print(\"El paciente tiene: \",enfermedad_nombre)  \n",
        "\n",
        "agenda.clear()"
      ],
      "execution_count": 85,
      "outputs": [
        {
          "output_type": "stream",
          "name": "stdout",
          "text": [
            "El paciente tiene:  gripa\n"
          ]
        }
      ]
    }
  ]
}
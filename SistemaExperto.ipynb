{
  "nbformat": 4,
  "nbformat_minor": 0,
  "metadata": {
    "colab": {
      "name": "SistemaExperto.ipynb",
      "provenance": [],
      "collapsed_sections": [],
      "authorship_tag": "ABX9TyNXml+zfGROcOUWrdHFipSE",
      "include_colab_link": true
    },
    "kernelspec": {
      "name": "python3",
      "display_name": "Python 3"
    },
    "language_info": {
      "name": "python"
    }
  },
  "cells": [
    {
      "cell_type": "markdown",
      "metadata": {
        "id": "view-in-github",
        "colab_type": "text"
      },
      "source": [
        "<a href=\"https://colab.research.google.com/github/hurtado1820/InteligenciaArtificial/blob/main/SistemaExperto.ipynb\" target=\"_parent\"><img src=\"https://colab.research.google.com/assets/colab-badge.svg\" alt=\"Open In Colab\"/></a>"
      ]
    },
    {
      "cell_type": "code",
      "metadata": {
        "id": "oGDyToKL8bkO"
      },
      "source": [
        "#Definición de los hechos\n",
        "sintoma = ['fiebre','malestar','tos','dolordegarganta']\n",
        "enfermedad = ['gripa','laringitis']\n",
        "analgesico = ['acetaminofen']\n",
        "antiinflamatorio = ['diclofenaco']\n",
        "tratamiento = analgesico + antiinflamatorio"
      ],
      "execution_count": 2,
      "outputs": []
    },
    {
      "cell_type": "code",
      "metadata": {
        "id": "GSSz6RNyPstj"
      },
      "source": [
        "#Regla1, reglas especificas\n",
        "sintoma_gripa = ['fiebre','malestar','tos']\n",
        "sintoma_laringitis = ['malestar','dolordegarganta']"
      ],
      "execution_count": 4,
      "outputs": []
    },
    {
      "cell_type": "code",
      "metadata": {
        "colab": {
          "base_uri": "https://localhost:8080/"
        },
        "id": "mZFOWBth9Gs7",
        "outputId": "1d560b0a-28d0-4b75-8a48-7d7ec477a498"
      },
      "source": [
        "#Procedimiento\n",
        "entrada = '¿Qué síntoma tiene?'\n",
        "agenda = {enf:0 for enf in enfermedad}\n",
        "bandera = True\n",
        "\n",
        "def regla1 (sintoma):\n",
        "  if (sintoma in sintoma_gripa) and (sintoma in sintoma_laringitis):\n",
        "    return 1\n",
        "  elif sintoma in sintoma_gripa:\n",
        "    return 2 \n",
        "  elif sintoma in sintoma_laringitis:\n",
        "    return 3\n",
        "  else:\n",
        "    return 0    \n",
        "\n",
        "\n",
        "respuesta = input(entrada).lower()\n",
        "while respuesta != \"nada\":\n",
        "  resp = regla1(respuesta)\n",
        "  if resp == 1:\n",
        "    agenda['gripa'] += 1\n",
        "    agenda['laringitis'] += 1\n",
        "  if resp == 2:\n",
        "    agenda['gripa'] += 1\n",
        "  if resp == 3:\n",
        "    agenda['laringitis'] += 1    \n",
        "  print(agenda)  \n",
        "  respuesta = input(entrada).lower()  \n"
      ],
      "execution_count": 41,
      "outputs": [
        {
          "name": "stdout",
          "output_type": "stream",
          "text": [
            "¿Qué síntoma tiene?tos\n",
            "{'gripa': 1, 'laringitis': 0}\n",
            "¿Qué síntoma tiene?nada\n"
          ]
        }
      ]
    },
    {
      "cell_type": "code",
      "metadata": {
        "colab": {
          "base_uri": "https://localhost:8080/"
        },
        "id": "YcOlm8AzUBeT",
        "outputId": "88ac911e-5c44-4eb3-f4f7-cade40d0ac63"
      },
      "source": [
        "#Regla2, reglas especificas\n",
        "def regla2(enfermedad_paciente):\n",
        "  if enfermedad_paciente == 'gripa':\n",
        "    print('tratamiento:',analgesico)\n",
        "  elif enfermedad_paciente == 'laringitis':\n",
        "    print('tratamiento:',antiinflamatorio)  \n",
        "\n",
        "enfermedad_paciente = max(agenda.items(), key=operator.itemgetter(1))[0]\n",
        "agenda.clear()\n",
        "regla2(enfermedad_paciente)"
      ],
      "execution_count": 42,
      "outputs": [
        {
          "output_type": "stream",
          "name": "stdout",
          "text": [
            "tratamiento ['acetaminofen']\n"
          ]
        }
      ]
    }
  ]
}